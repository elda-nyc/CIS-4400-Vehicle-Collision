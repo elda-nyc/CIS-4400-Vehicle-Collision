{
 "metadata": {
  "language_info": {
   "codemirror_mode": {
    "name": "ipython",
    "version": 3
   },
   "file_extension": ".py",
   "mimetype": "text/x-python",
   "name": "python",
   "nbconvert_exporter": "python",
   "pygments_lexer": "ipython3",
   "version": "3.9.4"
  },
  "orig_nbformat": 2,
  "kernelspec": {
   "name": "python394jvsc74a57bd0b8bdd4e700647ba2b08c59e5df8b7da1dcf50a218bcd4c1bcd9b3dc92e8788e5",
   "display_name": "Python 3.9.4 64-bit ('3.9')"
  },
  "metadata": {
   "interpreter": {
    "hash": "b8bdd4e700647ba2b08c59e5df8b7da1dcf50a218bcd4c1bcd9b3dc92e8788e5"
   }
  }
 },
 "nbformat": 4,
 "nbformat_minor": 2,
 "cells": [
  {
   "source": [
    "# Requirements\n",
    "- install python3.9\n",
    "- install mysql server on Mac via homebrew `brew install mysql`\n",
    "- start the mysql server `brew services start mysql`\n",
    "- install the mysql python client `pip3 install pymysql`\n",
    "- run this notebook (e.g.: VSCode's jupyter extension)\n",
    "\n",
    "# Links\n",
    "- installing python3.9: https://www.python.org/downloads/\n",
    "- installing homebrew: https://brew.sh/\n",
    "- installing VSCode and the jupyter extension: https://marketplace.visualstudio.com/items?itemName=ms-toolsai.jupyter"
   ],
   "cell_type": "markdown",
   "metadata": {}
  },
  {
   "source": [
    "# Imports"
   ],
   "cell_type": "markdown",
   "metadata": {}
  },
  {
   "cell_type": "code",
   "execution_count": 1,
   "metadata": {},
   "outputs": [],
   "source": [
    "import pymysql\n",
    "import pandas as pd"
   ]
  },
  {
   "source": [
    "# Open Connection"
   ],
   "cell_type": "markdown",
   "metadata": {}
  },
  {
   "cell_type": "code",
   "execution_count": 2,
   "metadata": {},
   "outputs": [
    {
     "output_type": "execute_result",
     "data": {
      "text/plain": [
       "5"
      ]
     },
     "metadata": {},
     "execution_count": 2
    }
   ],
   "source": [
    "\n",
    "connection = pymysql.connect(\n",
    "\thost='127.0.0.1',\n",
    "\tuser='root',\n",
    "\tpassword= '',\n",
    "\tcursorclass=pymysql.cursors.DictCursor\n",
    ")\n",
    "\n",
    "cursor = connection.cursor()\n",
    "\n",
    "#Create a database to run and store tables\n",
    "cursor.execute(\"CREATE DATABASE IF NOT EXISTS mydatabase\")\n",
    "connection.select_db(\"mydatabase\")\n",
    "#execute a query to confirm first query worked\n",
    "cursor.execute(\"SHOW DATABASES\")\n",
    "# print(cursor.fetchall()) #Verify that mydatabase appears in the list when print statement is run"
   ]
  },
  {
   "source": [
    "# Extraction of Data from API's and CSV's"
   ],
   "cell_type": "markdown",
   "metadata": {}
  },
  {
   "cell_type": "code",
   "execution_count": 3,
   "metadata": {},
   "outputs": [
    {
     "output_type": "execute_result",
     "data": {
      "text/plain": [
       "     collision_id crash_time    borough  zip_code  \\\n",
       "0         4407480       5:32        NaN       NaN   \n",
       "1         4407147      21:35   BROOKLYN   11217.0   \n",
       "2         4407665      16:15        NaN       NaN   \n",
       "3         4407811      16:00   BROOKLYN   11222.0   \n",
       "4         4406885       8:25        NaN       NaN   \n",
       "..            ...        ...        ...       ...   \n",
       "995       4407927       3:20        NaN       NaN   \n",
       "996       4408072      14:11  MANHATTAN   10030.0   \n",
       "997       4408456      11:40      BRONX   10472.0   \n",
       "998       4408361       5:13   BROOKLYN   11211.0   \n",
       "999       4407985      20:30     QUEENS   11413.0   \n",
       "\n",
       "      contributing_factor_vehicle_1 contributing_factor_vehicle_2  \\\n",
       "0             Following Too Closely                   Unspecified   \n",
       "1                       Unspecified                           NaN   \n",
       "2                 Pavement Slippery                           NaN   \n",
       "3             Following Too Closely                   Unspecified   \n",
       "4                       Unspecified                   Unspecified   \n",
       "..                              ...                           ...   \n",
       "995  Passing or Lane Usage Improper                   Unspecified   \n",
       "996                     Unspecified                   Unspecified   \n",
       "997                     Unspecified                           NaN   \n",
       "998             Alcohol Involvement                   Unspecified   \n",
       "999                    Unsafe Speed                   Unspecified   \n",
       "\n",
       "     number_of_persons_injured  number_of_persons_killed  \\\n",
       "0                            0                         0   \n",
       "1                            1                         0   \n",
       "2                            0                         0   \n",
       "3                            0                         0   \n",
       "4                            0                         0   \n",
       "..                         ...                       ...   \n",
       "995                          1                         0   \n",
       "996                          0                         0   \n",
       "997                          0                         0   \n",
       "998                          0                         0   \n",
       "999                          0                         0   \n",
       "\n",
       "                  crash_date  \n",
       "0    2021-04-14T00:00:00.000  \n",
       "1    2021-04-13T00:00:00.000  \n",
       "2    2021-04-15T00:00:00.000  \n",
       "3    2021-04-13T00:00:00.000  \n",
       "4    2021-04-12T00:00:00.000  \n",
       "..                       ...  \n",
       "995  2021-04-17T00:00:00.000  \n",
       "996  2021-04-17T00:00:00.000  \n",
       "997  2021-04-16T00:00:00.000  \n",
       "998  2021-04-17T00:00:00.000  \n",
       "999  2021-04-17T00:00:00.000  \n",
       "\n",
       "[1000 rows x 9 columns]"
      ],
      "text/html": "<div>\n<style scoped>\n    .dataframe tbody tr th:only-of-type {\n        vertical-align: middle;\n    }\n\n    .dataframe tbody tr th {\n        vertical-align: top;\n    }\n\n    .dataframe thead th {\n        text-align: right;\n    }\n</style>\n<table border=\"1\" class=\"dataframe\">\n  <thead>\n    <tr style=\"text-align: right;\">\n      <th></th>\n      <th>collision_id</th>\n      <th>crash_time</th>\n      <th>borough</th>\n      <th>zip_code</th>\n      <th>contributing_factor_vehicle_1</th>\n      <th>contributing_factor_vehicle_2</th>\n      <th>number_of_persons_injured</th>\n      <th>number_of_persons_killed</th>\n      <th>crash_date</th>\n    </tr>\n  </thead>\n  <tbody>\n    <tr>\n      <th>0</th>\n      <td>4407480</td>\n      <td>5:32</td>\n      <td>NaN</td>\n      <td>NaN</td>\n      <td>Following Too Closely</td>\n      <td>Unspecified</td>\n      <td>0</td>\n      <td>0</td>\n      <td>2021-04-14T00:00:00.000</td>\n    </tr>\n    <tr>\n      <th>1</th>\n      <td>4407147</td>\n      <td>21:35</td>\n      <td>BROOKLYN</td>\n      <td>11217.0</td>\n      <td>Unspecified</td>\n      <td>NaN</td>\n      <td>1</td>\n      <td>0</td>\n      <td>2021-04-13T00:00:00.000</td>\n    </tr>\n    <tr>\n      <th>2</th>\n      <td>4407665</td>\n      <td>16:15</td>\n      <td>NaN</td>\n      <td>NaN</td>\n      <td>Pavement Slippery</td>\n      <td>NaN</td>\n      <td>0</td>\n      <td>0</td>\n      <td>2021-04-15T00:00:00.000</td>\n    </tr>\n    <tr>\n      <th>3</th>\n      <td>4407811</td>\n      <td>16:00</td>\n      <td>BROOKLYN</td>\n      <td>11222.0</td>\n      <td>Following Too Closely</td>\n      <td>Unspecified</td>\n      <td>0</td>\n      <td>0</td>\n      <td>2021-04-13T00:00:00.000</td>\n    </tr>\n    <tr>\n      <th>4</th>\n      <td>4406885</td>\n      <td>8:25</td>\n      <td>NaN</td>\n      <td>NaN</td>\n      <td>Unspecified</td>\n      <td>Unspecified</td>\n      <td>0</td>\n      <td>0</td>\n      <td>2021-04-12T00:00:00.000</td>\n    </tr>\n    <tr>\n      <th>...</th>\n      <td>...</td>\n      <td>...</td>\n      <td>...</td>\n      <td>...</td>\n      <td>...</td>\n      <td>...</td>\n      <td>...</td>\n      <td>...</td>\n      <td>...</td>\n    </tr>\n    <tr>\n      <th>995</th>\n      <td>4407927</td>\n      <td>3:20</td>\n      <td>NaN</td>\n      <td>NaN</td>\n      <td>Passing or Lane Usage Improper</td>\n      <td>Unspecified</td>\n      <td>1</td>\n      <td>0</td>\n      <td>2021-04-17T00:00:00.000</td>\n    </tr>\n    <tr>\n      <th>996</th>\n      <td>4408072</td>\n      <td>14:11</td>\n      <td>MANHATTAN</td>\n      <td>10030.0</td>\n      <td>Unspecified</td>\n      <td>Unspecified</td>\n      <td>0</td>\n      <td>0</td>\n      <td>2021-04-17T00:00:00.000</td>\n    </tr>\n    <tr>\n      <th>997</th>\n      <td>4408456</td>\n      <td>11:40</td>\n      <td>BRONX</td>\n      <td>10472.0</td>\n      <td>Unspecified</td>\n      <td>NaN</td>\n      <td>0</td>\n      <td>0</td>\n      <td>2021-04-16T00:00:00.000</td>\n    </tr>\n    <tr>\n      <th>998</th>\n      <td>4408361</td>\n      <td>5:13</td>\n      <td>BROOKLYN</td>\n      <td>11211.0</td>\n      <td>Alcohol Involvement</td>\n      <td>Unspecified</td>\n      <td>0</td>\n      <td>0</td>\n      <td>2021-04-17T00:00:00.000</td>\n    </tr>\n    <tr>\n      <th>999</th>\n      <td>4407985</td>\n      <td>20:30</td>\n      <td>QUEENS</td>\n      <td>11413.0</td>\n      <td>Unsafe Speed</td>\n      <td>Unspecified</td>\n      <td>0</td>\n      <td>0</td>\n      <td>2021-04-17T00:00:00.000</td>\n    </tr>\n  </tbody>\n</table>\n<p>1000 rows × 9 columns</p>\n</div>"
     },
     "metadata": {},
     "execution_count": 3
    }
   ],
   "source": [
    "#EXTRACTION\n",
    "\n",
    "collision_data = pd.read_csv(\"https://data.cityofnewyork.us/resource/h9gi-nx95.csv\")\n",
    "features = [\"collision_id\", \"crash_time\", \"borough\", \"zip_code\", \"contributing_factor_vehicle_1\", \"contributing_factor_vehicle_2\", \"number_of_persons_injured\", \"number_of_persons_killed\",\"crash_date\"]\n",
    "collision_data = collision_data.loc[:,features]\n",
    "collision_data"
   ]
  },
  {
   "cell_type": "code",
   "execution_count": 4,
   "metadata": {},
   "outputs": [
    {
     "output_type": "execute_result",
     "data": {
      "text/plain": [
       "       uber_id  pickups  spd   vsb  temp  pcp01  pcp06  pcp24   sd  \\\n",
       "0            0      152  5.0  10.0  30.0    0.0    0.0    0.0  0.0   \n",
       "1            1     1519  5.0  10.0  30.0    0.0    0.0    0.0  0.0   \n",
       "2            2        0  5.0  10.0  30.0    0.0    0.0    0.0  0.0   \n",
       "3            3     5258  5.0  10.0  30.0    0.0    0.0    0.0  0.0   \n",
       "4            4      405  5.0  10.0  30.0    0.0    0.0    0.0  0.0   \n",
       "...        ...      ...  ...   ...   ...    ...    ...    ...  ...   \n",
       "29096    29096        0  7.0  10.0  75.0    0.0    0.0    0.0  0.0   \n",
       "29097    29097     3828  7.0  10.0  75.0    0.0    0.0    0.0  0.0   \n",
       "29098    29098      580  7.0  10.0  75.0    0.0    0.0    0.0  0.0   \n",
       "29099    29099        0  7.0  10.0  75.0    0.0    0.0    0.0  0.0   \n",
       "29100    29100        3  7.0  10.0  75.0    0.0    0.0    0.0  0.0   \n",
       "\n",
       "             borough hday      pickup_dt  \n",
       "0              Bronx    Y    1/1/15 1:00  \n",
       "1           Brooklyn    Y    1/1/15 1:00  \n",
       "2                EWR    Y    1/1/15 1:00  \n",
       "3          Manhattan    Y    1/1/15 1:00  \n",
       "4             Queens    Y    1/1/15 1:00  \n",
       "...              ...  ...            ...  \n",
       "29096            EWR    N  6/30/15 23:00  \n",
       "29097      Manhattan    N  6/30/15 23:00  \n",
       "29098         Queens    N  6/30/15 23:00  \n",
       "29099  Staten Island    N  6/30/15 23:00  \n",
       "29100            NaN    N  6/30/15 23:00  \n",
       "\n",
       "[29101 rows x 12 columns]"
      ],
      "text/html": "<div>\n<style scoped>\n    .dataframe tbody tr th:only-of-type {\n        vertical-align: middle;\n    }\n\n    .dataframe tbody tr th {\n        vertical-align: top;\n    }\n\n    .dataframe thead th {\n        text-align: right;\n    }\n</style>\n<table border=\"1\" class=\"dataframe\">\n  <thead>\n    <tr style=\"text-align: right;\">\n      <th></th>\n      <th>uber_id</th>\n      <th>pickups</th>\n      <th>spd</th>\n      <th>vsb</th>\n      <th>temp</th>\n      <th>pcp01</th>\n      <th>pcp06</th>\n      <th>pcp24</th>\n      <th>sd</th>\n      <th>borough</th>\n      <th>hday</th>\n      <th>pickup_dt</th>\n    </tr>\n  </thead>\n  <tbody>\n    <tr>\n      <th>0</th>\n      <td>0</td>\n      <td>152</td>\n      <td>5.0</td>\n      <td>10.0</td>\n      <td>30.0</td>\n      <td>0.0</td>\n      <td>0.0</td>\n      <td>0.0</td>\n      <td>0.0</td>\n      <td>Bronx</td>\n      <td>Y</td>\n      <td>1/1/15 1:00</td>\n    </tr>\n    <tr>\n      <th>1</th>\n      <td>1</td>\n      <td>1519</td>\n      <td>5.0</td>\n      <td>10.0</td>\n      <td>30.0</td>\n      <td>0.0</td>\n      <td>0.0</td>\n      <td>0.0</td>\n      <td>0.0</td>\n      <td>Brooklyn</td>\n      <td>Y</td>\n      <td>1/1/15 1:00</td>\n    </tr>\n    <tr>\n      <th>2</th>\n      <td>2</td>\n      <td>0</td>\n      <td>5.0</td>\n      <td>10.0</td>\n      <td>30.0</td>\n      <td>0.0</td>\n      <td>0.0</td>\n      <td>0.0</td>\n      <td>0.0</td>\n      <td>EWR</td>\n      <td>Y</td>\n      <td>1/1/15 1:00</td>\n    </tr>\n    <tr>\n      <th>3</th>\n      <td>3</td>\n      <td>5258</td>\n      <td>5.0</td>\n      <td>10.0</td>\n      <td>30.0</td>\n      <td>0.0</td>\n      <td>0.0</td>\n      <td>0.0</td>\n      <td>0.0</td>\n      <td>Manhattan</td>\n      <td>Y</td>\n      <td>1/1/15 1:00</td>\n    </tr>\n    <tr>\n      <th>4</th>\n      <td>4</td>\n      <td>405</td>\n      <td>5.0</td>\n      <td>10.0</td>\n      <td>30.0</td>\n      <td>0.0</td>\n      <td>0.0</td>\n      <td>0.0</td>\n      <td>0.0</td>\n      <td>Queens</td>\n      <td>Y</td>\n      <td>1/1/15 1:00</td>\n    </tr>\n    <tr>\n      <th>...</th>\n      <td>...</td>\n      <td>...</td>\n      <td>...</td>\n      <td>...</td>\n      <td>...</td>\n      <td>...</td>\n      <td>...</td>\n      <td>...</td>\n      <td>...</td>\n      <td>...</td>\n      <td>...</td>\n      <td>...</td>\n    </tr>\n    <tr>\n      <th>29096</th>\n      <td>29096</td>\n      <td>0</td>\n      <td>7.0</td>\n      <td>10.0</td>\n      <td>75.0</td>\n      <td>0.0</td>\n      <td>0.0</td>\n      <td>0.0</td>\n      <td>0.0</td>\n      <td>EWR</td>\n      <td>N</td>\n      <td>6/30/15 23:00</td>\n    </tr>\n    <tr>\n      <th>29097</th>\n      <td>29097</td>\n      <td>3828</td>\n      <td>7.0</td>\n      <td>10.0</td>\n      <td>75.0</td>\n      <td>0.0</td>\n      <td>0.0</td>\n      <td>0.0</td>\n      <td>0.0</td>\n      <td>Manhattan</td>\n      <td>N</td>\n      <td>6/30/15 23:00</td>\n    </tr>\n    <tr>\n      <th>29098</th>\n      <td>29098</td>\n      <td>580</td>\n      <td>7.0</td>\n      <td>10.0</td>\n      <td>75.0</td>\n      <td>0.0</td>\n      <td>0.0</td>\n      <td>0.0</td>\n      <td>0.0</td>\n      <td>Queens</td>\n      <td>N</td>\n      <td>6/30/15 23:00</td>\n    </tr>\n    <tr>\n      <th>29099</th>\n      <td>29099</td>\n      <td>0</td>\n      <td>7.0</td>\n      <td>10.0</td>\n      <td>75.0</td>\n      <td>0.0</td>\n      <td>0.0</td>\n      <td>0.0</td>\n      <td>0.0</td>\n      <td>Staten Island</td>\n      <td>N</td>\n      <td>6/30/15 23:00</td>\n    </tr>\n    <tr>\n      <th>29100</th>\n      <td>29100</td>\n      <td>3</td>\n      <td>7.0</td>\n      <td>10.0</td>\n      <td>75.0</td>\n      <td>0.0</td>\n      <td>0.0</td>\n      <td>0.0</td>\n      <td>0.0</td>\n      <td>NaN</td>\n      <td>N</td>\n      <td>6/30/15 23:00</td>\n    </tr>\n  </tbody>\n</table>\n<p>29101 rows × 12 columns</p>\n</div>"
     },
     "metadata": {},
     "execution_count": 4
    }
   ],
   "source": [
    "uber_data = pd.read_csv(\"uber_nyc_enriched.csv\")  \n",
    "features = [\"pickups\", \"spd\", \"vsb\", \"temp\", \"pcp01\", \"pcp06\", \"pcp24\", \"sd\", \"borough\", \"hday\", \"pickup_dt\"]\n",
    "uber_data = uber_data.loc[:,features]\n",
    "\n",
    "uber_data.insert(0, \"uber_id\", [i for i in range(len(uber_data))])\n",
    "uber_data"
   ]
  },
  {
   "cell_type": "code",
   "execution_count": 5,
   "metadata": {},
   "outputs": [
    {
     "output_type": "execute_result",
     "data": {
      "text/plain": [
       "        incident_id         Created Date  Incident Zip    Borough  \\\n",
       "0                 0  2015-12-31 00:01:15       10034.0  MANHATTAN   \n",
       "1                 1  2015-12-31 00:02:48       10040.0  MANHATTAN   \n",
       "2                 2  2015-12-31 00:03:25       10026.0  MANHATTAN   \n",
       "3                 3  2015-12-31 00:03:26       11231.0   BROOKLYN   \n",
       "4                 4  2015-12-31 00:05:10       10033.0  MANHATTAN   \n",
       "...             ...                  ...           ...        ...   \n",
       "225409       225409  2016-12-31 23:53:57       10003.0  MANHATTAN   \n",
       "225410       225410  2016-12-31 23:55:01       10032.0  MANHATTAN   \n",
       "225411       225411  2016-12-31 23:56:20       11104.0     QUEENS   \n",
       "225412       225412  2016-12-31 23:56:41       10040.0  MANHATTAN   \n",
       "225413       225413  2016-12-31 23:58:52       10463.0      BRONX   \n",
       "\n",
       "                     Location Type  \n",
       "0                 Store/Commercial  \n",
       "1                 Store/Commercial  \n",
       "2       Residential Building/House  \n",
       "3       Residential Building/House  \n",
       "4       Residential Building/House  \n",
       "...                            ...  \n",
       "225409            Store/Commercial  \n",
       "225410  Residential Building/House  \n",
       "225411  Residential Building/House  \n",
       "225412  Residential Building/House  \n",
       "225413  Residential Building/House  \n",
       "\n",
       "[225414 rows x 5 columns]"
      ],
      "text/html": "<div>\n<style scoped>\n    .dataframe tbody tr th:only-of-type {\n        vertical-align: middle;\n    }\n\n    .dataframe tbody tr th {\n        vertical-align: top;\n    }\n\n    .dataframe thead th {\n        text-align: right;\n    }\n</style>\n<table border=\"1\" class=\"dataframe\">\n  <thead>\n    <tr style=\"text-align: right;\">\n      <th></th>\n      <th>incident_id</th>\n      <th>Created Date</th>\n      <th>Incident Zip</th>\n      <th>Borough</th>\n      <th>Location Type</th>\n    </tr>\n  </thead>\n  <tbody>\n    <tr>\n      <th>0</th>\n      <td>0</td>\n      <td>2015-12-31 00:01:15</td>\n      <td>10034.0</td>\n      <td>MANHATTAN</td>\n      <td>Store/Commercial</td>\n    </tr>\n    <tr>\n      <th>1</th>\n      <td>1</td>\n      <td>2015-12-31 00:02:48</td>\n      <td>10040.0</td>\n      <td>MANHATTAN</td>\n      <td>Store/Commercial</td>\n    </tr>\n    <tr>\n      <th>2</th>\n      <td>2</td>\n      <td>2015-12-31 00:03:25</td>\n      <td>10026.0</td>\n      <td>MANHATTAN</td>\n      <td>Residential Building/House</td>\n    </tr>\n    <tr>\n      <th>3</th>\n      <td>3</td>\n      <td>2015-12-31 00:03:26</td>\n      <td>11231.0</td>\n      <td>BROOKLYN</td>\n      <td>Residential Building/House</td>\n    </tr>\n    <tr>\n      <th>4</th>\n      <td>4</td>\n      <td>2015-12-31 00:05:10</td>\n      <td>10033.0</td>\n      <td>MANHATTAN</td>\n      <td>Residential Building/House</td>\n    </tr>\n    <tr>\n      <th>...</th>\n      <td>...</td>\n      <td>...</td>\n      <td>...</td>\n      <td>...</td>\n      <td>...</td>\n    </tr>\n    <tr>\n      <th>225409</th>\n      <td>225409</td>\n      <td>2016-12-31 23:53:57</td>\n      <td>10003.0</td>\n      <td>MANHATTAN</td>\n      <td>Store/Commercial</td>\n    </tr>\n    <tr>\n      <th>225410</th>\n      <td>225410</td>\n      <td>2016-12-31 23:55:01</td>\n      <td>10032.0</td>\n      <td>MANHATTAN</td>\n      <td>Residential Building/House</td>\n    </tr>\n    <tr>\n      <th>225411</th>\n      <td>225411</td>\n      <td>2016-12-31 23:56:20</td>\n      <td>11104.0</td>\n      <td>QUEENS</td>\n      <td>Residential Building/House</td>\n    </tr>\n    <tr>\n      <th>225412</th>\n      <td>225412</td>\n      <td>2016-12-31 23:56:41</td>\n      <td>10040.0</td>\n      <td>MANHATTAN</td>\n      <td>Residential Building/House</td>\n    </tr>\n    <tr>\n      <th>225413</th>\n      <td>225413</td>\n      <td>2016-12-31 23:58:52</td>\n      <td>10463.0</td>\n      <td>BRONX</td>\n      <td>Residential Building/House</td>\n    </tr>\n  </tbody>\n</table>\n<p>225414 rows × 5 columns</p>\n</div>"
     },
     "metadata": {},
     "execution_count": 5
    }
   ],
   "source": [
    "noise_incident_data = pd.read_csv(\"party_in_nyc.csv\")  \n",
    "features = [\"Created Date\", \"Incident Zip\", \"Borough\", \"Location Type\"]\n",
    "noise_incident_data = noise_incident_data.loc[:,features]\n",
    "\n",
    "noise_incident_data.insert(0, \"incident_id\", [i for i in range(len(noise_incident_data))])\n",
    "noise_incident_data"
   ]
  },
  {
   "source": [
    "## Creating the fact dataframe"
   ],
   "cell_type": "markdown",
   "metadata": {}
  },
  {
   "source": [
    "### ensure all tables are of same size so that fact table"
   ],
   "cell_type": "markdown",
   "metadata": {}
  },
  {
   "cell_type": "code",
   "execution_count": 6,
   "metadata": {},
   "outputs": [],
   "source": [
    "fact_table_size = min(\n",
    "    len(collision_data),\n",
    "    len(uber_data),\n",
    "    len(noise_incident_data)\n",
    ")"
   ]
  },
  {
   "source": [
    "### create table"
   ],
   "cell_type": "markdown",
   "metadata": {}
  },
  {
   "cell_type": "code",
   "execution_count": 7,
   "metadata": {},
   "outputs": [
    {
     "output_type": "execute_result",
     "data": {
      "text/plain": [
       "      uber_id  collision_id  incident_id\n",
       "0           0     4407480.0            0\n",
       "1           1     4407147.0            1\n",
       "2           2     4407665.0            2\n",
       "3           3     4407811.0            3\n",
       "4           4     4406885.0            4\n",
       "...       ...           ...          ...\n",
       "996       996     4408072.0          996\n",
       "997       997     4408456.0          997\n",
       "998       998     4408361.0          998\n",
       "999       999     4407985.0          999\n",
       "1000     1000           NaN         1000\n",
       "\n",
       "[1001 rows x 3 columns]"
      ],
      "text/html": "<div>\n<style scoped>\n    .dataframe tbody tr th:only-of-type {\n        vertical-align: middle;\n    }\n\n    .dataframe tbody tr th {\n        vertical-align: top;\n    }\n\n    .dataframe thead th {\n        text-align: right;\n    }\n</style>\n<table border=\"1\" class=\"dataframe\">\n  <thead>\n    <tr style=\"text-align: right;\">\n      <th></th>\n      <th>uber_id</th>\n      <th>collision_id</th>\n      <th>incident_id</th>\n    </tr>\n  </thead>\n  <tbody>\n    <tr>\n      <th>0</th>\n      <td>0</td>\n      <td>4407480.0</td>\n      <td>0</td>\n    </tr>\n    <tr>\n      <th>1</th>\n      <td>1</td>\n      <td>4407147.0</td>\n      <td>1</td>\n    </tr>\n    <tr>\n      <th>2</th>\n      <td>2</td>\n      <td>4407665.0</td>\n      <td>2</td>\n    </tr>\n    <tr>\n      <th>3</th>\n      <td>3</td>\n      <td>4407811.0</td>\n      <td>3</td>\n    </tr>\n    <tr>\n      <th>4</th>\n      <td>4</td>\n      <td>4406885.0</td>\n      <td>4</td>\n    </tr>\n    <tr>\n      <th>...</th>\n      <td>...</td>\n      <td>...</td>\n      <td>...</td>\n    </tr>\n    <tr>\n      <th>996</th>\n      <td>996</td>\n      <td>4408072.0</td>\n      <td>996</td>\n    </tr>\n    <tr>\n      <th>997</th>\n      <td>997</td>\n      <td>4408456.0</td>\n      <td>997</td>\n    </tr>\n    <tr>\n      <th>998</th>\n      <td>998</td>\n      <td>4408361.0</td>\n      <td>998</td>\n    </tr>\n    <tr>\n      <th>999</th>\n      <td>999</td>\n      <td>4407985.0</td>\n      <td>999</td>\n    </tr>\n    <tr>\n      <th>1000</th>\n      <td>1000</td>\n      <td>NaN</td>\n      <td>1000</td>\n    </tr>\n  </tbody>\n</table>\n<p>1001 rows × 3 columns</p>\n</div>"
     },
     "metadata": {},
     "execution_count": 7
    }
   ],
   "source": [
    "facts = pd.DataFrame(data=uber_data['uber_id'])\n",
    "facts.insert(1,'collision_id',collision_data['collision_id'])\n",
    "facts.insert(2,'incident_id',noise_incident_data['incident_id'])\n",
    "facts = facts.loc[:fact_table_size]\n",
    "facts"
   ]
  },
  {
   "source": [
    "# Transformation of Data"
   ],
   "cell_type": "markdown",
   "metadata": {}
  },
  {
   "cell_type": "code",
   "execution_count": 11,
   "metadata": {},
   "outputs": [
    {
     "output_type": "execute_result",
     "data": {
      "text/plain": [
       "     collision_id           crash_time    borough  zip_code  \\\n",
       "3         4407811  1900-01-01 16:00:00   BROOKLYN     11222   \n",
       "6         4408019  1900-01-01 17:30:00     QUEENS     11106   \n",
       "13        4136992  1900-01-01 22:50:00   BROOKLYN     11201   \n",
       "15        4395664  1900-01-01 14:50:00      BRONX     10461   \n",
       "17        4403773  1900-01-01 22:20:00   BROOKLYN     11234   \n",
       "..            ...                  ...        ...       ...   \n",
       "993       4407966  1900-01-01 16:04:00     QUEENS     11435   \n",
       "994       4408426  1900-01-01 20:23:00      BRONX     10459   \n",
       "996       4408072  1900-01-01 14:11:00  MANHATTAN     10030   \n",
       "998       4408361  1900-01-01 05:13:00   BROOKLYN     11211   \n",
       "999       4407985  1900-01-01 20:30:00     QUEENS     11413   \n",
       "\n",
       "      contributing_factor_vehicle_1 contributing_factor_vehicle_2  \\\n",
       "3             Following Too Closely                   Unspecified   \n",
       "6    Driver Inattention/Distraction                   Unspecified   \n",
       "13   Passing or Lane Usage Improper                   Unspecified   \n",
       "15                      Unspecified                   Unspecified   \n",
       "17              Driver Inexperience                   Unspecified   \n",
       "..                              ...                           ...   \n",
       "993  Driver Inattention/Distraction                   Unspecified   \n",
       "994             Alcohol Involvement                   Unspecified   \n",
       "996                     Unspecified                   Unspecified   \n",
       "998             Alcohol Involvement                   Unspecified   \n",
       "999                    Unsafe Speed                   Unspecified   \n",
       "\n",
       "     number_of_persons_injured  number_of_persons_killed  \\\n",
       "3                            0                         0   \n",
       "6                            0                         0   \n",
       "13                           0                         0   \n",
       "15                           0                         0   \n",
       "17                           1                         0   \n",
       "..                         ...                       ...   \n",
       "993                          0                         0   \n",
       "994                          0                         0   \n",
       "996                          0                         0   \n",
       "998                          0                         0   \n",
       "999                          0                         0   \n",
       "\n",
       "                  crash_date  \n",
       "3    2021-04-13T00:00:00.000  \n",
       "6    2021-04-13T00:00:00.000  \n",
       "13   2019-05-21T00:00:00.000  \n",
       "15   2021-02-26T00:00:00.000  \n",
       "17   2021-03-31T00:00:00.000  \n",
       "..                       ...  \n",
       "993  2021-04-17T00:00:00.000  \n",
       "994  2021-04-17T00:00:00.000  \n",
       "996  2021-04-17T00:00:00.000  \n",
       "998  2021-04-17T00:00:00.000  \n",
       "999  2021-04-17T00:00:00.000  \n",
       "\n",
       "[494 rows x 9 columns]"
      ],
      "text/html": "<div>\n<style scoped>\n    .dataframe tbody tr th:only-of-type {\n        vertical-align: middle;\n    }\n\n    .dataframe tbody tr th {\n        vertical-align: top;\n    }\n\n    .dataframe thead th {\n        text-align: right;\n    }\n</style>\n<table border=\"1\" class=\"dataframe\">\n  <thead>\n    <tr style=\"text-align: right;\">\n      <th></th>\n      <th>collision_id</th>\n      <th>crash_time</th>\n      <th>borough</th>\n      <th>zip_code</th>\n      <th>contributing_factor_vehicle_1</th>\n      <th>contributing_factor_vehicle_2</th>\n      <th>number_of_persons_injured</th>\n      <th>number_of_persons_killed</th>\n      <th>crash_date</th>\n    </tr>\n  </thead>\n  <tbody>\n    <tr>\n      <th>3</th>\n      <td>4407811</td>\n      <td>1900-01-01 16:00:00</td>\n      <td>BROOKLYN</td>\n      <td>11222</td>\n      <td>Following Too Closely</td>\n      <td>Unspecified</td>\n      <td>0</td>\n      <td>0</td>\n      <td>2021-04-13T00:00:00.000</td>\n    </tr>\n    <tr>\n      <th>6</th>\n      <td>4408019</td>\n      <td>1900-01-01 17:30:00</td>\n      <td>QUEENS</td>\n      <td>11106</td>\n      <td>Driver Inattention/Distraction</td>\n      <td>Unspecified</td>\n      <td>0</td>\n      <td>0</td>\n      <td>2021-04-13T00:00:00.000</td>\n    </tr>\n    <tr>\n      <th>13</th>\n      <td>4136992</td>\n      <td>1900-01-01 22:50:00</td>\n      <td>BROOKLYN</td>\n      <td>11201</td>\n      <td>Passing or Lane Usage Improper</td>\n      <td>Unspecified</td>\n      <td>0</td>\n      <td>0</td>\n      <td>2019-05-21T00:00:00.000</td>\n    </tr>\n    <tr>\n      <th>15</th>\n      <td>4395664</td>\n      <td>1900-01-01 14:50:00</td>\n      <td>BRONX</td>\n      <td>10461</td>\n      <td>Unspecified</td>\n      <td>Unspecified</td>\n      <td>0</td>\n      <td>0</td>\n      <td>2021-02-26T00:00:00.000</td>\n    </tr>\n    <tr>\n      <th>17</th>\n      <td>4403773</td>\n      <td>1900-01-01 22:20:00</td>\n      <td>BROOKLYN</td>\n      <td>11234</td>\n      <td>Driver Inexperience</td>\n      <td>Unspecified</td>\n      <td>1</td>\n      <td>0</td>\n      <td>2021-03-31T00:00:00.000</td>\n    </tr>\n    <tr>\n      <th>...</th>\n      <td>...</td>\n      <td>...</td>\n      <td>...</td>\n      <td>...</td>\n      <td>...</td>\n      <td>...</td>\n      <td>...</td>\n      <td>...</td>\n      <td>...</td>\n    </tr>\n    <tr>\n      <th>993</th>\n      <td>4407966</td>\n      <td>1900-01-01 16:04:00</td>\n      <td>QUEENS</td>\n      <td>11435</td>\n      <td>Driver Inattention/Distraction</td>\n      <td>Unspecified</td>\n      <td>0</td>\n      <td>0</td>\n      <td>2021-04-17T00:00:00.000</td>\n    </tr>\n    <tr>\n      <th>994</th>\n      <td>4408426</td>\n      <td>1900-01-01 20:23:00</td>\n      <td>BRONX</td>\n      <td>10459</td>\n      <td>Alcohol Involvement</td>\n      <td>Unspecified</td>\n      <td>0</td>\n      <td>0</td>\n      <td>2021-04-17T00:00:00.000</td>\n    </tr>\n    <tr>\n      <th>996</th>\n      <td>4408072</td>\n      <td>1900-01-01 14:11:00</td>\n      <td>MANHATTAN</td>\n      <td>10030</td>\n      <td>Unspecified</td>\n      <td>Unspecified</td>\n      <td>0</td>\n      <td>0</td>\n      <td>2021-04-17T00:00:00.000</td>\n    </tr>\n    <tr>\n      <th>998</th>\n      <td>4408361</td>\n      <td>1900-01-01 05:13:00</td>\n      <td>BROOKLYN</td>\n      <td>11211</td>\n      <td>Alcohol Involvement</td>\n      <td>Unspecified</td>\n      <td>0</td>\n      <td>0</td>\n      <td>2021-04-17T00:00:00.000</td>\n    </tr>\n    <tr>\n      <th>999</th>\n      <td>4407985</td>\n      <td>1900-01-01 20:30:00</td>\n      <td>QUEENS</td>\n      <td>11413</td>\n      <td>Unsafe Speed</td>\n      <td>Unspecified</td>\n      <td>0</td>\n      <td>0</td>\n      <td>2021-04-17T00:00:00.000</td>\n    </tr>\n  </tbody>\n</table>\n<p>494 rows × 9 columns</p>\n</div>"
     },
     "metadata": {},
     "execution_count": 11
    }
   ],
   "source": [
    "#remove NaN values\n",
    "collision_data.dropna(inplace=True)\n",
    "\n",
    "#change crash_time values into datetime format\n",
    "# collision_data['crash_time'] = pd.to_datetime(collision_data['crash_time'], format = '%H:%M') #.dt.time\n",
    "\n",
    "#change data types\n",
    "collision_data.dtypes\n",
    "collision_data['collision_id'] = collision_data['collision_id'].astype(int)\n",
    "collision_data['crash_time'] = collision_data['crash_time'].astype(str)\n",
    "collision_data['borough'] = collision_data['borough'].astype(str)\n",
    "collision_data['zip_code'] = collision_data['zip_code'].astype(int)\n",
    "collision_data['contributing_factor_vehicle_1'] = collision_data['contributing_factor_vehicle_1'].astype(str)\n",
    "collision_data['contributing_factor_vehicle_2'] = collision_data['contributing_factor_vehicle_2'].astype(str)\n",
    "collision_data['number_of_persons_injured'] = collision_data['number_of_persons_injured'].astype(int)\n",
    "collision_data['number_of_persons_killed'] = collision_data['number_of_persons_killed'].astype(int)\n",
    "\n",
    "collision_data"
   ]
  },
  {
   "cell_type": "code",
   "execution_count": 9,
   "metadata": {},
   "outputs": [
    {
     "output_type": "execute_result",
     "data": {
      "text/plain": [
       "Index(['collision_id', 'crash_time', 'borough', 'zip_code',\n",
       "       'contributing_factor_vehicle_1', 'contributing_factor_vehicle_2',\n",
       "       'number_of_persons_injured', 'number_of_persons_killed', 'crash_date'],\n",
       "      dtype='object')"
      ]
     },
     "metadata": {},
     "execution_count": 9
    }
   ],
   "source": [
    "collision_data.columns"
   ]
  },
  {
   "cell_type": "code",
   "execution_count": 10,
   "metadata": {},
   "outputs": [
    {
     "output_type": "stream",
     "name": "stderr",
     "text": [
      "<ipython-input-10-978028ded168>:7: SettingWithCopyWarning: \nA value is trying to be set on a copy of a slice from a DataFrame.\nTry using .loc[row_indexer,col_indexer] = value instead\n\nSee the caveats in the documentation: https://pandas.pydata.org/pandas-docs/stable/user_guide/indexing.html#returning-a-view-versus-a-copy\n  noise_incident_data['incident_id'] = noise_incident_data['incident_id'].astype(int)\n"
     ]
    },
    {
     "output_type": "error",
     "ename": "ValueError",
     "evalue": "Cannot convert non-finite values (NA or inf) to integer",
     "traceback": [
      "\u001b[0;31m---------------------------------------------------------------------------\u001b[0m",
      "\u001b[0;31mValueError\u001b[0m                                Traceback (most recent call last)",
      "\u001b[0;32m<ipython-input-10-978028ded168>\u001b[0m in \u001b[0;36m<module>\u001b[0;34m\u001b[0m\n\u001b[1;32m      6\u001b[0m \u001b[0mnoise_incident_data\u001b[0m\u001b[0;34m.\u001b[0m\u001b[0mdtypes\u001b[0m\u001b[0;34m\u001b[0m\u001b[0;34m\u001b[0m\u001b[0m\n\u001b[1;32m      7\u001b[0m \u001b[0mnoise_incident_data\u001b[0m\u001b[0;34m[\u001b[0m\u001b[0;34m'incident_id'\u001b[0m\u001b[0;34m]\u001b[0m \u001b[0;34m=\u001b[0m \u001b[0mnoise_incident_data\u001b[0m\u001b[0;34m[\u001b[0m\u001b[0;34m'incident_id'\u001b[0m\u001b[0;34m]\u001b[0m\u001b[0;34m.\u001b[0m\u001b[0mastype\u001b[0m\u001b[0;34m(\u001b[0m\u001b[0mint\u001b[0m\u001b[0;34m)\u001b[0m\u001b[0;34m\u001b[0m\u001b[0;34m\u001b[0m\u001b[0m\n\u001b[0;32m----> 8\u001b[0;31m \u001b[0mnoise_incident_data\u001b[0m\u001b[0;34m[\u001b[0m\u001b[0;34m'Incident Zip'\u001b[0m\u001b[0;34m]\u001b[0m \u001b[0;34m=\u001b[0m \u001b[0mnoise_incident_data\u001b[0m\u001b[0;34m[\u001b[0m\u001b[0;34m'Incident Zip'\u001b[0m\u001b[0;34m]\u001b[0m\u001b[0;34m.\u001b[0m\u001b[0mastype\u001b[0m\u001b[0;34m(\u001b[0m\u001b[0mint\u001b[0m\u001b[0;34m)\u001b[0m\u001b[0;34m\u001b[0m\u001b[0;34m\u001b[0m\u001b[0m\n\u001b[0m\u001b[1;32m      9\u001b[0m \u001b[0mnoise_incident_data\u001b[0m\u001b[0;34m[\u001b[0m\u001b[0;34m'Borough'\u001b[0m\u001b[0;34m]\u001b[0m \u001b[0;34m=\u001b[0m \u001b[0mnoise_incident_data\u001b[0m\u001b[0;34m[\u001b[0m\u001b[0;34m'Borough'\u001b[0m\u001b[0;34m]\u001b[0m\u001b[0;34m.\u001b[0m\u001b[0mastype\u001b[0m\u001b[0;34m(\u001b[0m\u001b[0mstr\u001b[0m\u001b[0;34m)\u001b[0m\u001b[0;34m\u001b[0m\u001b[0;34m\u001b[0m\u001b[0m\n\u001b[1;32m     10\u001b[0m \u001b[0mnoise_incident_data\u001b[0m\u001b[0;34m[\u001b[0m\u001b[0;34m'Location Type'\u001b[0m\u001b[0;34m]\u001b[0m \u001b[0;34m=\u001b[0m \u001b[0mnoise_incident_data\u001b[0m\u001b[0;34m[\u001b[0m\u001b[0;34m'Location Type'\u001b[0m\u001b[0;34m]\u001b[0m\u001b[0;34m.\u001b[0m\u001b[0mastype\u001b[0m\u001b[0;34m(\u001b[0m\u001b[0mstr\u001b[0m\u001b[0;34m)\u001b[0m\u001b[0;34m\u001b[0m\u001b[0;34m\u001b[0m\u001b[0m\n",
      "\u001b[0;32m/Library/Frameworks/Python.framework/Versions/3.9/lib/python3.9/site-packages/pandas/core/generic.py\u001b[0m in \u001b[0;36mastype\u001b[0;34m(self, dtype, copy, errors)\u001b[0m\n\u001b[1;32m   5875\u001b[0m         \u001b[0;32melse\u001b[0m\u001b[0;34m:\u001b[0m\u001b[0;34m\u001b[0m\u001b[0;34m\u001b[0m\u001b[0m\n\u001b[1;32m   5876\u001b[0m             \u001b[0;31m# else, only a single dtype is given\u001b[0m\u001b[0;34m\u001b[0m\u001b[0;34m\u001b[0m\u001b[0;34m\u001b[0m\u001b[0m\n\u001b[0;32m-> 5877\u001b[0;31m             \u001b[0mnew_data\u001b[0m \u001b[0;34m=\u001b[0m \u001b[0mself\u001b[0m\u001b[0;34m.\u001b[0m\u001b[0m_mgr\u001b[0m\u001b[0;34m.\u001b[0m\u001b[0mastype\u001b[0m\u001b[0;34m(\u001b[0m\u001b[0mdtype\u001b[0m\u001b[0;34m=\u001b[0m\u001b[0mdtype\u001b[0m\u001b[0;34m,\u001b[0m \u001b[0mcopy\u001b[0m\u001b[0;34m=\u001b[0m\u001b[0mcopy\u001b[0m\u001b[0;34m,\u001b[0m \u001b[0merrors\u001b[0m\u001b[0;34m=\u001b[0m\u001b[0merrors\u001b[0m\u001b[0;34m)\u001b[0m\u001b[0;34m\u001b[0m\u001b[0;34m\u001b[0m\u001b[0m\n\u001b[0m\u001b[1;32m   5878\u001b[0m             \u001b[0;32mreturn\u001b[0m \u001b[0mself\u001b[0m\u001b[0;34m.\u001b[0m\u001b[0m_constructor\u001b[0m\u001b[0;34m(\u001b[0m\u001b[0mnew_data\u001b[0m\u001b[0;34m)\u001b[0m\u001b[0;34m.\u001b[0m\u001b[0m__finalize__\u001b[0m\u001b[0;34m(\u001b[0m\u001b[0mself\u001b[0m\u001b[0;34m,\u001b[0m \u001b[0mmethod\u001b[0m\u001b[0;34m=\u001b[0m\u001b[0;34m\"astype\"\u001b[0m\u001b[0;34m)\u001b[0m\u001b[0;34m\u001b[0m\u001b[0;34m\u001b[0m\u001b[0m\n\u001b[1;32m   5879\u001b[0m \u001b[0;34m\u001b[0m\u001b[0m\n",
      "\u001b[0;32m/Library/Frameworks/Python.framework/Versions/3.9/lib/python3.9/site-packages/pandas/core/internals/managers.py\u001b[0m in \u001b[0;36mastype\u001b[0;34m(self, dtype, copy, errors)\u001b[0m\n\u001b[1;32m    629\u001b[0m         \u001b[0mself\u001b[0m\u001b[0;34m,\u001b[0m \u001b[0mdtype\u001b[0m\u001b[0;34m,\u001b[0m \u001b[0mcopy\u001b[0m\u001b[0;34m:\u001b[0m \u001b[0mbool\u001b[0m \u001b[0;34m=\u001b[0m \u001b[0;32mFalse\u001b[0m\u001b[0;34m,\u001b[0m \u001b[0merrors\u001b[0m\u001b[0;34m:\u001b[0m \u001b[0mstr\u001b[0m \u001b[0;34m=\u001b[0m \u001b[0;34m\"raise\"\u001b[0m\u001b[0;34m\u001b[0m\u001b[0;34m\u001b[0m\u001b[0m\n\u001b[1;32m    630\u001b[0m     ) -> \"BlockManager\":\n\u001b[0;32m--> 631\u001b[0;31m         \u001b[0;32mreturn\u001b[0m \u001b[0mself\u001b[0m\u001b[0;34m.\u001b[0m\u001b[0mapply\u001b[0m\u001b[0;34m(\u001b[0m\u001b[0;34m\"astype\"\u001b[0m\u001b[0;34m,\u001b[0m \u001b[0mdtype\u001b[0m\u001b[0;34m=\u001b[0m\u001b[0mdtype\u001b[0m\u001b[0;34m,\u001b[0m \u001b[0mcopy\u001b[0m\u001b[0;34m=\u001b[0m\u001b[0mcopy\u001b[0m\u001b[0;34m,\u001b[0m \u001b[0merrors\u001b[0m\u001b[0;34m=\u001b[0m\u001b[0merrors\u001b[0m\u001b[0;34m)\u001b[0m\u001b[0;34m\u001b[0m\u001b[0;34m\u001b[0m\u001b[0m\n\u001b[0m\u001b[1;32m    632\u001b[0m \u001b[0;34m\u001b[0m\u001b[0m\n\u001b[1;32m    633\u001b[0m     def convert(\n",
      "\u001b[0;32m/Library/Frameworks/Python.framework/Versions/3.9/lib/python3.9/site-packages/pandas/core/internals/managers.py\u001b[0m in \u001b[0;36mapply\u001b[0;34m(self, f, align_keys, ignore_failures, **kwargs)\u001b[0m\n\u001b[1;32m    425\u001b[0m                     \u001b[0mapplied\u001b[0m \u001b[0;34m=\u001b[0m \u001b[0mb\u001b[0m\u001b[0;34m.\u001b[0m\u001b[0mapply\u001b[0m\u001b[0;34m(\u001b[0m\u001b[0mf\u001b[0m\u001b[0;34m,\u001b[0m \u001b[0;34m**\u001b[0m\u001b[0mkwargs\u001b[0m\u001b[0;34m)\u001b[0m\u001b[0;34m\u001b[0m\u001b[0;34m\u001b[0m\u001b[0m\n\u001b[1;32m    426\u001b[0m                 \u001b[0;32melse\u001b[0m\u001b[0;34m:\u001b[0m\u001b[0;34m\u001b[0m\u001b[0;34m\u001b[0m\u001b[0m\n\u001b[0;32m--> 427\u001b[0;31m                     \u001b[0mapplied\u001b[0m \u001b[0;34m=\u001b[0m \u001b[0mgetattr\u001b[0m\u001b[0;34m(\u001b[0m\u001b[0mb\u001b[0m\u001b[0;34m,\u001b[0m \u001b[0mf\u001b[0m\u001b[0;34m)\u001b[0m\u001b[0;34m(\u001b[0m\u001b[0;34m**\u001b[0m\u001b[0mkwargs\u001b[0m\u001b[0;34m)\u001b[0m\u001b[0;34m\u001b[0m\u001b[0;34m\u001b[0m\u001b[0m\n\u001b[0m\u001b[1;32m    428\u001b[0m             \u001b[0;32mexcept\u001b[0m \u001b[0;34m(\u001b[0m\u001b[0mTypeError\u001b[0m\u001b[0;34m,\u001b[0m \u001b[0mNotImplementedError\u001b[0m\u001b[0;34m)\u001b[0m\u001b[0;34m:\u001b[0m\u001b[0;34m\u001b[0m\u001b[0;34m\u001b[0m\u001b[0m\n\u001b[1;32m    429\u001b[0m                 \u001b[0;32mif\u001b[0m \u001b[0;32mnot\u001b[0m \u001b[0mignore_failures\u001b[0m\u001b[0;34m:\u001b[0m\u001b[0;34m\u001b[0m\u001b[0;34m\u001b[0m\u001b[0m\n",
      "\u001b[0;32m/Library/Frameworks/Python.framework/Versions/3.9/lib/python3.9/site-packages/pandas/core/internals/blocks.py\u001b[0m in \u001b[0;36mastype\u001b[0;34m(self, dtype, copy, errors)\u001b[0m\n\u001b[1;32m    671\u001b[0m             \u001b[0mvals1d\u001b[0m \u001b[0;34m=\u001b[0m \u001b[0mvalues\u001b[0m\u001b[0;34m.\u001b[0m\u001b[0mravel\u001b[0m\u001b[0;34m(\u001b[0m\u001b[0;34m)\u001b[0m\u001b[0;34m\u001b[0m\u001b[0;34m\u001b[0m\u001b[0m\n\u001b[1;32m    672\u001b[0m             \u001b[0;32mtry\u001b[0m\u001b[0;34m:\u001b[0m\u001b[0;34m\u001b[0m\u001b[0;34m\u001b[0m\u001b[0m\n\u001b[0;32m--> 673\u001b[0;31m                 \u001b[0mvalues\u001b[0m \u001b[0;34m=\u001b[0m \u001b[0mastype_nansafe\u001b[0m\u001b[0;34m(\u001b[0m\u001b[0mvals1d\u001b[0m\u001b[0;34m,\u001b[0m \u001b[0mdtype\u001b[0m\u001b[0;34m,\u001b[0m \u001b[0mcopy\u001b[0m\u001b[0;34m=\u001b[0m\u001b[0;32mTrue\u001b[0m\u001b[0;34m)\u001b[0m\u001b[0;34m\u001b[0m\u001b[0;34m\u001b[0m\u001b[0m\n\u001b[0m\u001b[1;32m    674\u001b[0m             \u001b[0;32mexcept\u001b[0m \u001b[0;34m(\u001b[0m\u001b[0mValueError\u001b[0m\u001b[0;34m,\u001b[0m \u001b[0mTypeError\u001b[0m\u001b[0;34m)\u001b[0m\u001b[0;34m:\u001b[0m\u001b[0;34m\u001b[0m\u001b[0;34m\u001b[0m\u001b[0m\n\u001b[1;32m    675\u001b[0m                 \u001b[0;31m# e.g. astype_nansafe can fail on object-dtype of strings\u001b[0m\u001b[0;34m\u001b[0m\u001b[0;34m\u001b[0m\u001b[0;34m\u001b[0m\u001b[0m\n",
      "\u001b[0;32m/Library/Frameworks/Python.framework/Versions/3.9/lib/python3.9/site-packages/pandas/core/dtypes/cast.py\u001b[0m in \u001b[0;36mastype_nansafe\u001b[0;34m(arr, dtype, copy, skipna)\u001b[0m\n\u001b[1;32m   1066\u001b[0m \u001b[0;34m\u001b[0m\u001b[0m\n\u001b[1;32m   1067\u001b[0m         \u001b[0;32mif\u001b[0m \u001b[0;32mnot\u001b[0m \u001b[0mnp\u001b[0m\u001b[0;34m.\u001b[0m\u001b[0misfinite\u001b[0m\u001b[0;34m(\u001b[0m\u001b[0marr\u001b[0m\u001b[0;34m)\u001b[0m\u001b[0;34m.\u001b[0m\u001b[0mall\u001b[0m\u001b[0;34m(\u001b[0m\u001b[0;34m)\u001b[0m\u001b[0;34m:\u001b[0m\u001b[0;34m\u001b[0m\u001b[0;34m\u001b[0m\u001b[0m\n\u001b[0;32m-> 1068\u001b[0;31m             \u001b[0;32mraise\u001b[0m \u001b[0mValueError\u001b[0m\u001b[0;34m(\u001b[0m\u001b[0;34m\"Cannot convert non-finite values (NA or inf) to integer\"\u001b[0m\u001b[0;34m)\u001b[0m\u001b[0;34m\u001b[0m\u001b[0;34m\u001b[0m\u001b[0m\n\u001b[0m\u001b[1;32m   1069\u001b[0m \u001b[0;34m\u001b[0m\u001b[0m\n\u001b[1;32m   1070\u001b[0m     \u001b[0;32melif\u001b[0m \u001b[0mis_object_dtype\u001b[0m\u001b[0;34m(\u001b[0m\u001b[0marr\u001b[0m\u001b[0;34m)\u001b[0m\u001b[0;34m:\u001b[0m\u001b[0;34m\u001b[0m\u001b[0;34m\u001b[0m\u001b[0m\n",
      "\u001b[0;31mValueError\u001b[0m: Cannot convert non-finite values (NA or inf) to integer"
     ]
    }
   ],
   "source": [
    "#remove unnecessary value in borough\n",
    "noise_incident_data.Borough.unique()\n",
    "noise_incident_data = noise_incident_data[noise_incident_data.Borough != 'Unspecified']\n",
    "\n",
    "#change data types\n",
    "noise_incident_data.dtypes\n",
    "noise_incident_data['incident_id'] = noise_incident_data['incident_id'].astype(int)\n",
    "noise_incident_data['Incident Zip'] = noise_incident_data['Incident Zip'].astype(int)\n",
    "noise_incident_data['Borough'] = noise_incident_data['Borough'].astype(str)\n",
    "noise_incident_data['Location Type'] = noise_incident_data['Location Type'].astype(str)\n",
    "noise_incident_data['num_calls'] = noise_incident_data['num_calls'].astype(int)\n"
   ]
  },
  {
   "cell_type": "code",
   "execution_count": null,
   "metadata": {},
   "outputs": [],
   "source": [
    "noise_incident_data"
   ]
  },
  {
   "cell_type": "code",
   "execution_count": null,
   "metadata": {},
   "outputs": [],
   "source": [
    "#split datetime into separate columns\n",
    "uber_data['dates'] = pd.to_datetime(uber_data['pickup_dt'], format = '%Y/%m/%d %H:%M').dt.date\n",
    "uber_data['time'] = pd.to_datetime(uber_data['pickup_dt'], format = '%Y/%m/%d %H:%M').dt.time\n",
    "del uber_data['pickup_dt']\n",
    "\n",
    "#remove NaN values\n",
    "uber_data.dropna(inplace=True)\n",
    "\n",
    "#remove unnecessary boroughs\n",
    "uber_data.borough.unique()\n",
    "uber_data = uber_data[uber_data.borough != 'EWR']\n",
    "\n",
    "#match borough text with other dataframes\n",
    "uber_data['borough'] = uber_data['borough'].str.upper()\n",
    "\n",
    "#change data types\n",
    "uber_data.dtypes\n",
    "uber_data['uber_id'] = uber_data['uber_id'].astype(int)\n",
    "uber_data['pickups'] = uber_data['pickups'].astype(int)\n",
    "uber_data['borough'] = uber_data['borough'].astype(str)\n",
    "uber_data['hday'] = uber_data['hday'].astype(str)\n",
    "uber_data['dates'] = uber_data['dates'].astype(str)\n",
    "uber_data['time'] = uber_data['time'].astype(str)\n"
   ]
  },
  {
   "cell_type": "code",
   "execution_count": null,
   "metadata": {},
   "outputs": [],
   "source": [
    "uber_data"
   ]
  }
 ]
}