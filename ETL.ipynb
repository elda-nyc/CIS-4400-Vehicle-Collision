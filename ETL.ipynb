{
 "cells": [
  {
   "cell_type": "markdown",
   "metadata": {},
   "source": [
    "# Requirements\n",
    "- install python3.9\n",
    "- install mysql server on Mac via homebrew `brew install mysql`\n",
    "- start the mysql server `brew services start mysql`\n",
    "- install the mysql python client `pip3 install pymysql`\n",
    "- run this notebook (e.g.: VSCode's jupyter extension)\n",
    "\n",
    "# Links\n",
    "- installing python3.9: https://www.python.org/downloads/\n",
    "- installing homebrew: https://brew.sh/\n",
    "- installing VSCode and the jupyter extension: https://marketplace.visualstudio.com/items?itemName=ms-toolsai.jupyter"
   ]
  },
  {
   "cell_type": "markdown",
   "metadata": {},
   "source": [
    "# Imports"
   ]
  },
  {
   "cell_type": "code",
   "execution_count": 103,
   "metadata": {},
   "outputs": [],
   "source": [
    "import pymysql\n",
    "import pandas as pd"
   ]
  },
  {
   "cell_type": "markdown",
   "metadata": {},
   "source": [
    "# Open Connection"
   ]
  },
  {
   "cell_type": "code",
   "execution_count": 104,
   "metadata": {},
   "outputs": [
    {
     "data": {
      "text/plain": "5"
     },
     "execution_count": 104,
     "metadata": {},
     "output_type": "execute_result"
    }
   ],
   "source": [
    "\n",
    "connection = pymysql.connect(\n",
    "\thost='127.0.0.1',\n",
    "\tuser='root',\n",
    "\tpassword= '',\n",
    "\tcursorclass=pymysql.cursors.DictCursor\n",
    ")\n",
    "\n",
    "cursor = connection.cursor()\n",
    "\n",
    "#Create a database to run and store tables\n",
    "cursor.execute(\"CREATE DATABASE IF NOT EXISTS mydatabase\")\n",
    "connection.select_db(\"mydatabase\")\n",
    "#execute a query to confirm first query worked\n",
    "cursor.execute(\"SHOW DATABASES\")\n",
    "# print(cursor.fetchall()) #Verify that mydatabase appears in the list when print statement is run"
   ]
  },
  {
   "cell_type": "markdown",
   "metadata": {},
   "source": [
    "# Extraction of Data from API's and CSV's"
   ]
  },
  {
   "cell_type": "code",
   "execution_count": 105,
   "metadata": {},
   "outputs": [],
   "source": [
    "#EXTRACTION\n",
    "\n",
    "collision_data = pd.read_csv(\"https://data.cityofnewyork.us/resource/h9gi-nx95.csv\")\n",
    "features = [\"collision_id\", \"crash_time\", \"borough\", \"zip_code\", \"contributing_factor_vehicle_1\", \"contributing_factor_vehicle_2\", \"number_of_persons_injured\", \"number_of_persons_killed\"]\n",
    "collision_data = collision_data.loc[:,features]\n"
   ]
  },
  {
   "cell_type": "code",
   "execution_count": 106,
   "metadata": {},
   "outputs": [],
   "source": [
    "uber_data = pd.read_csv(\"uber_nyc_enriched.csv\")  \r\n",
    "features = [\"pickup_dt\",\"pickups\", \"spd\", \"vsb\", \"temp\", \"pcp01\", \"pcp06\", \"pcp24\", \"sd\", \"borough\", \"hday\"]\r\n",
    "uber_data = uber_data.loc[:,features]\r\n",
    "\r\n",
    "uber_data.insert(0, \"uber_id\", [i for i in range(len(uber_data))])"
   ]
  },
  {
   "cell_type": "code",
   "execution_count": 107,
   "metadata": {},
   "outputs": [],
   "source": [
    "noise_incident_data = pd.read_csv(\"bar_locations.csv\")  \n",
    "features = [\"Incident Zip\", \"Borough\", \"Location Type\", \"num_calls\"]\n",
    "noise_incident_data = noise_incident_data.loc[:,features]\n",
    "\n",
    "noise_incident_data.insert(0, \"incident_id\", [i for i in range(len(noise_incident_data))])"
   ]
  },
  {
   "cell_type": "markdown",
   "metadata": {},
   "source": [
    "# Transformation of Data"
   ]
  },
  {
   "cell_type": "code",
   "execution_count": 108,
   "metadata": {},
   "outputs": [
    {
     "data": {
      "text/html": "<div>\n<style scoped>\n    .dataframe tbody tr th:only-of-type {\n        vertical-align: middle;\n    }\n\n    .dataframe tbody tr th {\n        vertical-align: top;\n    }\n\n    .dataframe thead th {\n        text-align: right;\n    }\n</style>\n<table border=\"1\" class=\"dataframe\">\n  <thead>\n    <tr style=\"text-align: right;\">\n      <th></th>\n      <th>uber_id</th>\n      <th>pickups</th>\n      <th>spd</th>\n      <th>vsb</th>\n      <th>temp</th>\n      <th>pcp01</th>\n      <th>pcp06</th>\n      <th>pcp24</th>\n      <th>sd</th>\n      <th>borough</th>\n      <th>hday</th>\n      <th>dates</th>\n      <th>time</th>\n    </tr>\n  </thead>\n  <tbody>\n    <tr>\n      <th>0</th>\n      <td>0</td>\n      <td>152</td>\n      <td>5.0</td>\n      <td>10.0</td>\n      <td>30.0</td>\n      <td>0.0</td>\n      <td>0.0</td>\n      <td>0.0</td>\n      <td>0.0</td>\n      <td>BRONX</td>\n      <td>Y</td>\n      <td>2015-01-01</td>\n      <td>01:00:00</td>\n    </tr>\n    <tr>\n      <th>1</th>\n      <td>1</td>\n      <td>1519</td>\n      <td>5.0</td>\n      <td>10.0</td>\n      <td>30.0</td>\n      <td>0.0</td>\n      <td>0.0</td>\n      <td>0.0</td>\n      <td>0.0</td>\n      <td>BROOKLYN</td>\n      <td>Y</td>\n      <td>2015-01-01</td>\n      <td>01:00:00</td>\n    </tr>\n    <tr>\n      <th>3</th>\n      <td>3</td>\n      <td>5258</td>\n      <td>5.0</td>\n      <td>10.0</td>\n      <td>30.0</td>\n      <td>0.0</td>\n      <td>0.0</td>\n      <td>0.0</td>\n      <td>0.0</td>\n      <td>MANHATTAN</td>\n      <td>Y</td>\n      <td>2015-01-01</td>\n      <td>01:00:00</td>\n    </tr>\n    <tr>\n      <th>4</th>\n      <td>4</td>\n      <td>405</td>\n      <td>5.0</td>\n      <td>10.0</td>\n      <td>30.0</td>\n      <td>0.0</td>\n      <td>0.0</td>\n      <td>0.0</td>\n      <td>0.0</td>\n      <td>QUEENS</td>\n      <td>Y</td>\n      <td>2015-01-01</td>\n      <td>01:00:00</td>\n    </tr>\n    <tr>\n      <th>5</th>\n      <td>5</td>\n      <td>6</td>\n      <td>5.0</td>\n      <td>10.0</td>\n      <td>30.0</td>\n      <td>0.0</td>\n      <td>0.0</td>\n      <td>0.0</td>\n      <td>0.0</td>\n      <td>STATEN ISLAND</td>\n      <td>Y</td>\n      <td>2015-01-01</td>\n      <td>01:00:00</td>\n    </tr>\n    <tr>\n      <th>...</th>\n      <td>...</td>\n      <td>...</td>\n      <td>...</td>\n      <td>...</td>\n      <td>...</td>\n      <td>...</td>\n      <td>...</td>\n      <td>...</td>\n      <td>...</td>\n      <td>...</td>\n      <td>...</td>\n      <td>...</td>\n      <td>...</td>\n    </tr>\n    <tr>\n      <th>29094</th>\n      <td>29094</td>\n      <td>67</td>\n      <td>7.0</td>\n      <td>10.0</td>\n      <td>75.0</td>\n      <td>0.0</td>\n      <td>0.0</td>\n      <td>0.0</td>\n      <td>0.0</td>\n      <td>BRONX</td>\n      <td>N</td>\n      <td>2015-06-30</td>\n      <td>23:00:00</td>\n    </tr>\n    <tr>\n      <th>29095</th>\n      <td>29095</td>\n      <td>990</td>\n      <td>7.0</td>\n      <td>10.0</td>\n      <td>75.0</td>\n      <td>0.0</td>\n      <td>0.0</td>\n      <td>0.0</td>\n      <td>0.0</td>\n      <td>BROOKLYN</td>\n      <td>N</td>\n      <td>2015-06-30</td>\n      <td>23:00:00</td>\n    </tr>\n    <tr>\n      <th>29097</th>\n      <td>29097</td>\n      <td>3828</td>\n      <td>7.0</td>\n      <td>10.0</td>\n      <td>75.0</td>\n      <td>0.0</td>\n      <td>0.0</td>\n      <td>0.0</td>\n      <td>0.0</td>\n      <td>MANHATTAN</td>\n      <td>N</td>\n      <td>2015-06-30</td>\n      <td>23:00:00</td>\n    </tr>\n    <tr>\n      <th>29098</th>\n      <td>29098</td>\n      <td>580</td>\n      <td>7.0</td>\n      <td>10.0</td>\n      <td>75.0</td>\n      <td>0.0</td>\n      <td>0.0</td>\n      <td>0.0</td>\n      <td>0.0</td>\n      <td>QUEENS</td>\n      <td>N</td>\n      <td>2015-06-30</td>\n      <td>23:00:00</td>\n    </tr>\n    <tr>\n      <th>29099</th>\n      <td>29099</td>\n      <td>0</td>\n      <td>7.0</td>\n      <td>10.0</td>\n      <td>75.0</td>\n      <td>0.0</td>\n      <td>0.0</td>\n      <td>0.0</td>\n      <td>0.0</td>\n      <td>STATEN ISLAND</td>\n      <td>N</td>\n      <td>2015-06-30</td>\n      <td>23:00:00</td>\n    </tr>\n  </tbody>\n</table>\n<p>21715 rows × 13 columns</p>\n</div>",
      "text/plain": "       uber_id  pickups  spd   vsb  temp  pcp01  pcp06  pcp24   sd  \\\n0            0      152  5.0  10.0  30.0    0.0    0.0    0.0  0.0   \n1            1     1519  5.0  10.0  30.0    0.0    0.0    0.0  0.0   \n3            3     5258  5.0  10.0  30.0    0.0    0.0    0.0  0.0   \n4            4      405  5.0  10.0  30.0    0.0    0.0    0.0  0.0   \n5            5        6  5.0  10.0  30.0    0.0    0.0    0.0  0.0   \n...        ...      ...  ...   ...   ...    ...    ...    ...  ...   \n29094    29094       67  7.0  10.0  75.0    0.0    0.0    0.0  0.0   \n29095    29095      990  7.0  10.0  75.0    0.0    0.0    0.0  0.0   \n29097    29097     3828  7.0  10.0  75.0    0.0    0.0    0.0  0.0   \n29098    29098      580  7.0  10.0  75.0    0.0    0.0    0.0  0.0   \n29099    29099        0  7.0  10.0  75.0    0.0    0.0    0.0  0.0   \n\n             borough hday       dates      time  \n0              BRONX    Y  2015-01-01  01:00:00  \n1           BROOKLYN    Y  2015-01-01  01:00:00  \n3          MANHATTAN    Y  2015-01-01  01:00:00  \n4             QUEENS    Y  2015-01-01  01:00:00  \n5      STATEN ISLAND    Y  2015-01-01  01:00:00  \n...              ...  ...         ...       ...  \n29094          BRONX    N  2015-06-30  23:00:00  \n29095       BROOKLYN    N  2015-06-30  23:00:00  \n29097      MANHATTAN    N  2015-06-30  23:00:00  \n29098         QUEENS    N  2015-06-30  23:00:00  \n29099  STATEN ISLAND    N  2015-06-30  23:00:00  \n\n[21715 rows x 13 columns]"
     },
     "execution_count": 108,
     "metadata": {},
     "output_type": "execute_result"
    }
   ],
   "source": [
    "#split datetime into separate columns\r\n",
    "uber_data['dates'] = pd.to_datetime(uber_data['pickup_dt'], format = '%m/%d/%y %H:%M').dt.date\r\n",
    "uber_data['time'] = pd.to_datetime(uber_data['pickup_dt'], format = '%m/%d/%y %H:%M').dt.time\r\n",
    "del uber_data['pickup_dt']\r\n",
    "\r\n",
    "#remove NaN values\r\n",
    "uber_data.dropna(inplace=True)\r\n",
    "\r\n",
    "#remove unnecessary boroughs\r\n",
    "uber_data.borough.unique()\r\n",
    "uber_data = uber_data[uber_data.borough != 'EWR']\r\n",
    "\r\n",
    "#match borough text with other dataframes\r\n",
    "uber_data['borough'] = uber_data['borough'].str.upper()\r\n",
    "\r\n",
    "#change data types\r\n",
    "uber_data.dtypes\r\n",
    "uber_data['uber_id'] = uber_data['uber_id'].astype(int)\r\n",
    "uber_data['pickups'] = uber_data['pickups'].astype(int)\r\n",
    "uber_data['borough'] = uber_data['borough'].astype(str)\r\n",
    "uber_data['hday'] = uber_data['hday'].astype(str)\r\n",
    "uber_data['dates'] = uber_data['dates'].astype(str)\r\n",
    "uber_data['time'] = uber_data['time'].astype(str)\r\n",
    "\r\n",
    "uber_data"
   ]
  },
  {
   "cell_type": "code",
   "execution_count": 109,
   "metadata": {},
   "outputs": [
    {
     "data": {
      "text/html": "<div>\n<style scoped>\n    .dataframe tbody tr th:only-of-type {\n        vertical-align: middle;\n    }\n\n    .dataframe tbody tr th {\n        vertical-align: top;\n    }\n\n    .dataframe thead th {\n        text-align: right;\n    }\n</style>\n<table border=\"1\" class=\"dataframe\">\n  <thead>\n    <tr style=\"text-align: right;\">\n      <th></th>\n      <th>collision_id</th>\n      <th>crash_time</th>\n      <th>borough</th>\n      <th>zip_code</th>\n      <th>contributing_factor_vehicle_1</th>\n      <th>contributing_factor_vehicle_2</th>\n      <th>number_of_persons_injured</th>\n      <th>number_of_persons_killed</th>\n    </tr>\n  </thead>\n  <tbody>\n    <tr>\n      <th>3</th>\n      <td>4407811</td>\n      <td>16:00:00</td>\n      <td>BROOKLYN</td>\n      <td>11222</td>\n      <td>Following Too Closely</td>\n      <td>Unspecified</td>\n      <td>0</td>\n      <td>0</td>\n    </tr>\n    <tr>\n      <th>6</th>\n      <td>4408019</td>\n      <td>17:30:00</td>\n      <td>QUEENS</td>\n      <td>11106</td>\n      <td>Driver Inattention/Distraction</td>\n      <td>Unspecified</td>\n      <td>0</td>\n      <td>0</td>\n    </tr>\n    <tr>\n      <th>13</th>\n      <td>4136992</td>\n      <td>22:50:00</td>\n      <td>BROOKLYN</td>\n      <td>11201</td>\n      <td>Passing or Lane Usage Improper</td>\n      <td>Unspecified</td>\n      <td>0</td>\n      <td>0</td>\n    </tr>\n    <tr>\n      <th>15</th>\n      <td>4395664</td>\n      <td>14:50:00</td>\n      <td>BRONX</td>\n      <td>10461</td>\n      <td>Unspecified</td>\n      <td>Unspecified</td>\n      <td>0</td>\n      <td>0</td>\n    </tr>\n    <tr>\n      <th>17</th>\n      <td>4403773</td>\n      <td>22:20:00</td>\n      <td>BROOKLYN</td>\n      <td>11234</td>\n      <td>Driver Inexperience</td>\n      <td>Unspecified</td>\n      <td>1</td>\n      <td>0</td>\n    </tr>\n    <tr>\n      <th>...</th>\n      <td>...</td>\n      <td>...</td>\n      <td>...</td>\n      <td>...</td>\n      <td>...</td>\n      <td>...</td>\n      <td>...</td>\n      <td>...</td>\n    </tr>\n    <tr>\n      <th>992</th>\n      <td>4408495</td>\n      <td>17:29:00</td>\n      <td>BROOKLYN</td>\n      <td>11203</td>\n      <td>Unspecified</td>\n      <td>Unspecified</td>\n      <td>0</td>\n      <td>0</td>\n    </tr>\n    <tr>\n      <th>993</th>\n      <td>4408458</td>\n      <td>20:55:00</td>\n      <td>STATEN ISLAND</td>\n      <td>10305</td>\n      <td>Driver Inattention/Distraction</td>\n      <td>Unspecified</td>\n      <td>0</td>\n      <td>0</td>\n    </tr>\n    <tr>\n      <th>995</th>\n      <td>4407937</td>\n      <td>07:25:00</td>\n      <td>QUEENS</td>\n      <td>11379</td>\n      <td>Backing Unsafely</td>\n      <td>Unspecified</td>\n      <td>0</td>\n      <td>0</td>\n    </tr>\n    <tr>\n      <th>997</th>\n      <td>4407966</td>\n      <td>16:04:00</td>\n      <td>QUEENS</td>\n      <td>11435</td>\n      <td>Driver Inattention/Distraction</td>\n      <td>Unspecified</td>\n      <td>0</td>\n      <td>0</td>\n    </tr>\n    <tr>\n      <th>998</th>\n      <td>4408426</td>\n      <td>20:23:00</td>\n      <td>BRONX</td>\n      <td>10459</td>\n      <td>Alcohol Involvement</td>\n      <td>Unspecified</td>\n      <td>0</td>\n      <td>0</td>\n    </tr>\n  </tbody>\n</table>\n<p>492 rows × 8 columns</p>\n</div>",
      "text/plain": "     collision_id crash_time        borough  zip_code  \\\n3         4407811   16:00:00       BROOKLYN     11222   \n6         4408019   17:30:00         QUEENS     11106   \n13        4136992   22:50:00       BROOKLYN     11201   \n15        4395664   14:50:00          BRONX     10461   \n17        4403773   22:20:00       BROOKLYN     11234   \n..            ...        ...            ...       ...   \n992       4408495   17:29:00       BROOKLYN     11203   \n993       4408458   20:55:00  STATEN ISLAND     10305   \n995       4407937   07:25:00         QUEENS     11379   \n997       4407966   16:04:00         QUEENS     11435   \n998       4408426   20:23:00          BRONX     10459   \n\n      contributing_factor_vehicle_1 contributing_factor_vehicle_2  \\\n3             Following Too Closely                   Unspecified   \n6    Driver Inattention/Distraction                   Unspecified   \n13   Passing or Lane Usage Improper                   Unspecified   \n15                      Unspecified                   Unspecified   \n17              Driver Inexperience                   Unspecified   \n..                              ...                           ...   \n992                     Unspecified                   Unspecified   \n993  Driver Inattention/Distraction                   Unspecified   \n995                Backing Unsafely                   Unspecified   \n997  Driver Inattention/Distraction                   Unspecified   \n998             Alcohol Involvement                   Unspecified   \n\n     number_of_persons_injured  number_of_persons_killed  \n3                            0                         0  \n6                            0                         0  \n13                           0                         0  \n15                           0                         0  \n17                           1                         0  \n..                         ...                       ...  \n992                          0                         0  \n993                          0                         0  \n995                          0                         0  \n997                          0                         0  \n998                          0                         0  \n\n[492 rows x 8 columns]"
     },
     "execution_count": 109,
     "metadata": {},
     "output_type": "execute_result"
    }
   ],
   "source": [
    "#remove NaN values\r\n",
    "collision_data.dropna(inplace=True)\r\n",
    "\r\n",
    "#change crash_time values into datetime format\r\n",
    "collision_data['crash_time'] = pd.to_datetime(collision_data['crash_time'], format = '%H:%M').dt.time\r\n",
    "\r\n",
    "#change data types\r\n",
    "collision_data.dtypes\r\n",
    "collision_data['collision_id'] = collision_data['collision_id'].astype(int)\r\n",
    "collision_data['crash_time'] = collision_data['crash_time'].astype(str)\r\n",
    "collision_data['borough'] = collision_data['borough'].astype(str)\r\n",
    "collision_data['zip_code'] = collision_data['zip_code'].astype(int)\r\n",
    "collision_data['contributing_factor_vehicle_1'] = collision_data['contributing_factor_vehicle_1'].astype(str)\r\n",
    "collision_data['contributing_factor_vehicle_2'] = collision_data['contributing_factor_vehicle_2'].astype(str)\r\n",
    "collision_data['number_of_persons_injured'] = collision_data['number_of_persons_injured'].astype(int)\r\n",
    "collision_data['number_of_persons_killed'] = collision_data['number_of_persons_killed'].astype(int)\r\n",
    "\r\n",
    "collision_data"
   ]
  },
  {
   "cell_type": "code",
   "execution_count": 110,
   "metadata": {},
   "outputs": [
    {
     "data": {
      "text/html": "<div>\n<style scoped>\n    .dataframe tbody tr th:only-of-type {\n        vertical-align: middle;\n    }\n\n    .dataframe tbody tr th {\n        vertical-align: top;\n    }\n\n    .dataframe thead th {\n        text-align: right;\n    }\n</style>\n<table border=\"1\" class=\"dataframe\">\n  <thead>\n    <tr style=\"text-align: right;\">\n      <th></th>\n      <th>incident_id</th>\n      <th>Incident Zip</th>\n      <th>Borough</th>\n      <th>Location Type</th>\n      <th>num_calls</th>\n    </tr>\n  </thead>\n  <tbody>\n    <tr>\n      <th>0</th>\n      <td>0</td>\n      <td>10308</td>\n      <td>STATEN ISLAND</td>\n      <td>Club/Bar/Restaurant</td>\n      <td>40</td>\n    </tr>\n    <tr>\n      <th>1</th>\n      <td>1</td>\n      <td>10012</td>\n      <td>MANHATTAN</td>\n      <td>Club/Bar/Restaurant</td>\n      <td>18</td>\n    </tr>\n    <tr>\n      <th>2</th>\n      <td>2</td>\n      <td>10308</td>\n      <td>STATEN ISLAND</td>\n      <td>Club/Bar/Restaurant</td>\n      <td>21</td>\n    </tr>\n    <tr>\n      <th>3</th>\n      <td>3</td>\n      <td>10034</td>\n      <td>MANHATTAN</td>\n      <td>Club/Bar/Restaurant</td>\n      <td>160</td>\n    </tr>\n    <tr>\n      <th>4</th>\n      <td>4</td>\n      <td>11220</td>\n      <td>BROOKLYN</td>\n      <td>Club/Bar/Restaurant</td>\n      <td>17</td>\n    </tr>\n    <tr>\n      <th>...</th>\n      <td>...</td>\n      <td>...</td>\n      <td>...</td>\n      <td>...</td>\n      <td>...</td>\n    </tr>\n    <tr>\n      <th>2435</th>\n      <td>2435</td>\n      <td>11211</td>\n      <td>BROOKLYN</td>\n      <td>Club/Bar/Restaurant</td>\n      <td>16</td>\n    </tr>\n    <tr>\n      <th>2436</th>\n      <td>2436</td>\n      <td>11104</td>\n      <td>QUEENS</td>\n      <td>Club/Bar/Restaurant</td>\n      <td>17</td>\n    </tr>\n    <tr>\n      <th>2437</th>\n      <td>2437</td>\n      <td>10012</td>\n      <td>MANHATTAN</td>\n      <td>Club/Bar/Restaurant</td>\n      <td>17</td>\n    </tr>\n    <tr>\n      <th>2438</th>\n      <td>2438</td>\n      <td>10304</td>\n      <td>STATEN ISLAND</td>\n      <td>Club/Bar/Restaurant</td>\n      <td>11</td>\n    </tr>\n    <tr>\n      <th>2439</th>\n      <td>2439</td>\n      <td>11423</td>\n      <td>QUEENS</td>\n      <td>Club/Bar/Restaurant</td>\n      <td>11</td>\n    </tr>\n  </tbody>\n</table>\n<p>2435 rows × 5 columns</p>\n</div>",
      "text/plain": "      incident_id  Incident Zip        Borough        Location Type  num_calls\n0               0         10308  STATEN ISLAND  Club/Bar/Restaurant         40\n1               1         10012      MANHATTAN  Club/Bar/Restaurant         18\n2               2         10308  STATEN ISLAND  Club/Bar/Restaurant         21\n3               3         10034      MANHATTAN  Club/Bar/Restaurant        160\n4               4         11220       BROOKLYN  Club/Bar/Restaurant         17\n...           ...           ...            ...                  ...        ...\n2435         2435         11211       BROOKLYN  Club/Bar/Restaurant         16\n2436         2436         11104         QUEENS  Club/Bar/Restaurant         17\n2437         2437         10012      MANHATTAN  Club/Bar/Restaurant         17\n2438         2438         10304  STATEN ISLAND  Club/Bar/Restaurant         11\n2439         2439         11423         QUEENS  Club/Bar/Restaurant         11\n\n[2435 rows x 5 columns]"
     },
     "execution_count": 110,
     "metadata": {},
     "output_type": "execute_result"
    }
   ],
   "source": [
    "#remove unnecessary value in borough\r\n",
    "noise_incident_data.Borough.unique()\r\n",
    "noise_incident_data = noise_incident_data[noise_incident_data.Borough != 'Unspecified']\r\n",
    "\r\n",
    "#change data types\r\n",
    "noise_incident_data.dtypes\r\n",
    "noise_incident_data['incident_id'] = noise_incident_data['incident_id'].astype(int)\r\n",
    "noise_incident_data['Incident Zip'] = noise_incident_data['Incident Zip'].astype(int)\r\n",
    "noise_incident_data['Borough'] = noise_incident_data['Borough'].astype(str)\r\n",
    "noise_incident_data['Location Type'] = noise_incident_data['Location Type'].astype(str)\r\n",
    "noise_incident_data['num_calls'] = noise_incident_data['num_calls'].astype(int)\r\n",
    "\r\n",
    "noise_incident_data"
   ]
  }
 ],
 "metadata": {
  "kernelspec": {
   "display_name": "Python 3.9.4 64-bit (windows store)",
   "name": "python394jvsc74a57bd0eab64f3b6676e51d7278fe3b7d41d51b59eab53486254d4eaf55d10dcbe75ac1"
  },
  "language_info": {
   "codemirror_mode": {
    "name": "ipython",
    "version": 3
   },
   "file_extension": ".py",
   "mimetype": "text/x-python",
   "name": "python",
   "nbconvert_exporter": "python",
   "pygments_lexer": "ipython3",
   "version": "3.9.4"
  },
  "metadata": {
   "interpreter": {
    "hash": "eab64f3b6676e51d7278fe3b7d41d51b59eab53486254d4eaf55d10dcbe75ac1"
   }
  },
  "orig_nbformat": 2
 },
 "nbformat": 4,
 "nbformat_minor": 2
}